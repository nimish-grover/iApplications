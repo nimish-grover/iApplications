{
 "cells": [
  {
   "cell_type": "code",
   "execution_count": null,
   "metadata": {
    "vscode": {
     "languageId": "plaintext"
    }
   },
   "outputs": [],
   "source": [
    "SELECT \n",
    "    SUM(pc.population_count) AS population_count,\n",
    "    p.id,\n",
    "    p.display_name\n",
    "FROM \n",
    "    territory_join tj\n",
    "JOIN \n",
    "    population_census pc ON tj.id = pc.territory_id\n",
    "JOIN \n",
    "    population p ON p.id = pc.population_id\n",
    "WHERE \n",
    "    tj.block_id = :block_id AND \n",
    "    tj.district_id = :district_id AND \n",
    "    p.id IN (2, 3) -- 2 = 'male', 3 = 'female'\n",
    "GROUP BY \n",
    "    tj.block_id,\n",
    "    tj.district_id,\n",
    "    p.id,\n",
    "    p.display_name,\n",
    "    p.population_type;\n"
   ]
  },
  {
   "cell_type": "code",
   "execution_count": null,
   "metadata": {
    "vscode": {
     "languageId": "plaintext"
    }
   },
   "outputs": [],
   "source": [
    "SELECT \n",
    "    COALESCE(bl.count, SUM(lc.livestock_count), 0) AS livestock_count,\n",
    "    l.livestock_name,\n",
    "    l.id AS livestock_id,\n",
    "    l.coefficient AS coefficient\n",
    "FROM \n",
    "    livestocks l\n",
    "LEFT JOIN \n",
    "    block_livestocks bl ON bl.livestock_id = l.id AND bl.bt_id = 1\n",
    "LEFT JOIN \n",
    "    livestock_census lc ON lc.livestock_id = l.id\n",
    "LEFT JOIN \n",
    "    territory_joins tj ON tj.id = lc.tj_id AND tj.block_id = 2074 AND tj.district_id = 745\n",
    "GROUP BY \n",
    "    l.id,\n",
    "    bl.count,\n",
    "    l.livestock_name,\n",
    "    l.coefficient\n",
    "ORDER BY \n",
    "    l.livestock_name;\n"
   ]
  },
  {
   "cell_type": "code",
   "execution_count": null,
   "metadata": {
    "vscode": {
     "languageId": "plaintext"
    }
   },
   "outputs": [],
   "source": [
    "SELECT \n",
    "    coalesce (bc.area ,SUM(cc.crop_area),0) AS crop_area,\n",
    "    c.id AS crop_id,\n",
    "    c.coefficient,\n",
    "    c.crop_name\n",
    "FROM \n",
    "    crops c\n",
    "LEFT JOIN \n",
    "    crop_census cc ON cc.crop_id = c.id\n",
    "LEFT JOIN \n",
    "    territory_joins tj ON tj.id = cc.territory_id and tj.block_id = 2074 and tj.district_id = 745\n",
    "left join \n",
    "\tblock_crops bc on bc.crop_id = c.id and bc.bt_id=1\n",
    "GROUP BY \n",
    "    c.id, c.coefficient, c.crop_name,bc.area\n",
    "order by \n",
    "\tcrop_name"
   ]
  },
  {
   "cell_type": "code",
   "execution_count": null,
   "metadata": {
    "vscode": {
     "languageId": "plaintext"
    }
   },
   "outputs": [],
   "source": [
    "SELECT \n",
    "    coalesce(bw.\"storage\",SUM(wc.storage_capacity),0) AS storage_capacity,\n",
    "    coalesce (bw.count ,COUNT(wc.waterbody_id),0) AS waterbody_count,\n",
    "    wt.id AS waterbody_id,\n",
    "    wt.waterbody_name\n",
    "FROM \n",
    "    waterbodies_census wc\n",
    "LEFT JOIN\n",
    "    waterbody_types wt ON wt.id = wc.waterbody_id\n",
    "LEFT JOIN\n",
    "    territory_joins tj ON tj.id = wc.tj_id and tj.block_id = 2074 and tj.district_id = 745\n",
    "left join \n",
    "\tblock_waterbodies bw on bw.wb_type_id = wt.id and bw.bt_id = 1\n",
    "GROUP BY \n",
    "    wt.id, wt.waterbody_name,bw.\"storage\" ,bw.count;\n"
   ]
  },
  {
   "cell_type": "code",
   "execution_count": null,
   "metadata": {
    "vscode": {
     "languageId": "plaintext"
    }
   },
   "outputs": [],
   "source": [
    "SELECT \n",
    "    ge.extractable,\n",
    "    coalesce(bg.extraction,ge.extraction) as extraction,\n",
    "    ge.stage_of_extraction,\n",
    "    ge.category,\n",
    "    ge.block_id AS block_id\n",
    "FROM \n",
    "    groundwater_extractions ge\n",
    "inner JOIN \n",
    "    blocks b ON b.id = ge.block_id\n",
    "INNER JOIN \n",
    "    districts d ON d.id = ge.district_id\n",
    "inner join \n",
    "\tblock_territory bt on bt.block_id = ge.block_id \n",
    "left join \n",
    "\tblock_groundwater bg on bg.bt_id = bt.id and bg.bt_id=1\n",
    "WHERE \n",
    "    ge.block_id = 2074\n",
    "    AND d.id = 745;"
   ]
  }
 ],
 "metadata": {
  "language_info": {
   "name": "python"
  }
 },
 "nbformat": 4,
 "nbformat_minor": 2
}
